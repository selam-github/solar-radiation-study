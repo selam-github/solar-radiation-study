{
 "cells": [
  {
   "cell_type": "code",
   "execution_count": null,
   "metadata": {},
   "outputs": [],
   "source": [
    "import pandas as pd\n",
    "import numpy as np\n"
   ]
  },
  {
   "cell_type": "code",
   "execution_count": null,
   "metadata": {},
   "outputs": [],
   "source": [
    "df1 = pd.read_csv('benin-malanville.csv')\n",
    "df2 = pd.read_csv('sierraleone-bumbuna.csv')\n",
    "df3 = pd.read_csv('togo-dapaong_qc.csv')"
   ]
  },
  {
   "cell_type": "code",
   "execution_count": null,
   "metadata": {},
   "outputs": [],
   "source": [
    "print(df1.head())\n",
    "print(df2.head())\n",
    "print(df3.head())\n",
    "\n",
    "print(df1.info())\n",
    "print(df2.info())\n",
    "print(df3.info())"
   ]
  },
  {
   "cell_type": "code",
   "execution_count": null,
   "metadata": {},
   "outputs": [],
   "source": [
    "# For the first DataFrame\n",
    "mean_df1 = df1.mean()\n",
    "median_df1 = df1.median()\n",
    "std_dev_df1 = df1.std()\n",
    "#For the second DataFrame\n",
    "mean_df2 = df2.mean()\n",
    "median_df2 = df2.median()\n",
    "std_dev_df2 = df2.std()\n",
    "#For the third DataFrame\n",
    "mean_df3 = df2.mean()\n",
    "median_df3 = df3.median()\n",
    "std_dev_df3 = df3.std()\n",
    "# Printing results\n",
    "print(f\"DataFrame 1: Mean = {mean_df1}, Median = {median_df1}, Std Dev = {std_dev_df1}\")\n",
    "print(f\"DataFrame 2: Mean = {mean_df2}, Median = {median_df2}, Std Dev = {std_dev_df2}\")\n",
    "print(f\"DataFrame 3: Mean = {mean_df3}, Median = {median_df3}, Std Dev = {std_dev_df3}\")\n"
   ]
  },
  {
   "cell_type": "code",
   "execution_count": null,
   "metadata": {},
   "outputs": [],
   "source": []
  },
  {
   "cell_type": "code",
   "execution_count": null,
   "metadata": {},
   "outputs": [],
   "source": []
  },
  {
   "cell_type": "code",
   "execution_count": null,
   "metadata": {},
   "outputs": [],
   "source": []
  },
  {
   "cell_type": "markdown",
   "metadata": {},
   "source": []
  },
  {
   "cell_type": "code",
   "execution_count": null,
   "metadata": {},
   "outputs": [],
   "source": []
  },
  {
   "cell_type": "markdown",
   "metadata": {},
   "source": []
  },
  {
   "cell_type": "code",
   "execution_count": null,
   "metadata": {},
   "outputs": [],
   "source": []
  },
  {
   "cell_type": "code",
   "execution_count": null,
   "metadata": {},
   "outputs": [],
   "source": []
  },
  {
   "cell_type": "code",
   "execution_count": null,
   "metadata": {},
   "outputs": [],
   "source": []
  }
 ],
 "metadata": {
  "kernelspec": {
   "display_name": "venv",
   "language": "python",
   "name": "python3"
  },
  "language_info": {
   "name": "python",
   "version": "3.12.4"
  }
 },
 "nbformat": 4,
 "nbformat_minor": 2
}
